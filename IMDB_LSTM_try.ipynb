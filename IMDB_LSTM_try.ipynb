{
 "cells": [
  {
   "cell_type": "code",
   "execution_count": 1,
   "metadata": {},
   "outputs": [],
   "source": [
    "from keras.datasets import imdb\n",
    "from keras.preprocessing import sequence\n",
    "from keras.preprocessing.text import Tokenizer\n",
    "\n",
    "import re\n",
    "re_tag = re.compile(r'<[^>]+>')\n",
    "\n",
    "def rm_tags(text):\n",
    "    return re_tag.sub('', text)\n",
    "    \n",
    "import os\n",
    "def read_files(filetype):\n",
    "    path = \"data/aclImdb/\"\n",
    "    file_list=[]\n",
    "\n",
    "    positive_path=path + filetype+\"/pos/\"\n",
    "    for f in os.listdir(positive_path)[:5000]:\n",
    "        file_list+=[positive_path+f]\n",
    "    \n",
    "    negative_path=path + filetype+\"/neg/\"\n",
    "    for f in os.listdir(negative_path)[:5000]:\n",
    "        file_list+=[negative_path+f]\n",
    "        \n",
    "    print('read',filetype, 'files:',len(file_list))\n",
    "       \n",
    "    all_labels = ([1] * 5000 + [0] * 5000) \n",
    "    \n",
    "    all_texts  = []\n",
    "    \n",
    "    for fi in file_list:\n",
    "        with open(fi,encoding='utf8') as file_input:\n",
    "            all_texts += [rm_tags(\" \".join(file_input.readlines()))]\n",
    "            \n",
    "    return all_labels,all_texts"
   ]
  },
  {
   "cell_type": "code",
   "execution_count": 3,
   "metadata": {},
   "outputs": [
    {
     "name": "stdout",
     "output_type": "stream",
     "text": [
      "read train files: 10000\n",
      "read test files: 10000\n"
     ]
    }
   ],
   "source": [
    "y_train,train_text=read_files(\"train\")\n",
    "y_test,test_text=read_files(\"test\")\n",
    "\n",
    "token = Tokenizer(num_words=3000)\n",
    "token.fit_on_texts(train_text)"
   ]
  },
  {
   "cell_type": "code",
   "execution_count": 4,
   "metadata": {},
   "outputs": [],
   "source": [
    "x_train_seq = token.texts_to_sequences(train_text)\n",
    "x_test_seq  = token.texts_to_sequences(test_text)"
   ]
  },
  {
   "cell_type": "code",
   "execution_count": 5,
   "metadata": {},
   "outputs": [],
   "source": [
    "x_train = sequence.pad_sequences(x_train_seq, maxlen=100)\n",
    "x_test  = sequence.pad_sequences(x_test_seq,  maxlen=100)"
   ]
  },
  {
   "cell_type": "code",
   "execution_count": 6,
   "metadata": {},
   "outputs": [],
   "source": [
    "import numpy as np\n",
    "y_train_array = np.array(y_train)\n",
    "y_test_array = np.array(y_test)"
   ]
  },
  {
   "cell_type": "code",
   "execution_count": 8,
   "metadata": {},
   "outputs": [],
   "source": [
    "from keras.models import Sequential\n",
    "from keras.layers.core import Dense, Dropout, Activation\n",
    "from keras.layers.embeddings import Embedding\n",
    "from keras.layers.recurrent import LSTM\n",
    "\n",
    "model = Sequential()\n",
    "model.add(Embedding(output_dim=32,\n",
    "                    input_dim=3000, \n",
    "                    input_length=100))\n",
    "model.add(Dropout(0.35))\n",
    "model.add(LSTM(32))\n",
    "model.add(Dense(units=256,activation='relu' ))\n",
    "model.add(Dropout(0.35))\n",
    "model.add(Dense(units=1,activation='sigmoid' ))"
   ]
  },
  {
   "cell_type": "code",
   "execution_count": 9,
   "metadata": {},
   "outputs": [
    {
     "name": "stdout",
     "output_type": "stream",
     "text": [
      "Model: \"sequential_1\"\n",
      "_________________________________________________________________\n",
      "Layer (type)                 Output Shape              Param #   \n",
      "=================================================================\n",
      "embedding_1 (Embedding)      (None, 100, 32)           96000     \n",
      "_________________________________________________________________\n",
      "dropout_1 (Dropout)          (None, 100, 32)           0         \n",
      "_________________________________________________________________\n",
      "lstm (LSTM)                  (None, 32)                8320      \n",
      "_________________________________________________________________\n",
      "dense (Dense)                (None, 256)               8448      \n",
      "_________________________________________________________________\n",
      "dropout_2 (Dropout)          (None, 256)               0         \n",
      "_________________________________________________________________\n",
      "dense_1 (Dense)              (None, 1)                 257       \n",
      "=================================================================\n",
      "Total params: 113,025\n",
      "Trainable params: 113,025\n",
      "Non-trainable params: 0\n",
      "_________________________________________________________________\n"
     ]
    }
   ],
   "source": [
    "model.summary()"
   ]
  },
  {
   "cell_type": "code",
   "execution_count": 10,
   "metadata": {},
   "outputs": [],
   "source": [
    "model.compile(loss='binary_crossentropy', \n",
    "              optimizer='adam', \n",
    "              metrics=['accuracy'])"
   ]
  },
  {
   "cell_type": "code",
   "execution_count": 11,
   "metadata": {},
   "outputs": [
    {
     "name": "stdout",
     "output_type": "stream",
     "text": [
      "Epoch 1/20\n",
      "80/80 - 9s - loss: 0.6033 - accuracy: 0.6646 - val_loss: 0.5825 - val_accuracy: 0.7815\n",
      "Epoch 2/20\n",
      "80/80 - 7s - loss: 0.3359 - accuracy: 0.8562 - val_loss: 0.5094 - val_accuracy: 0.7390\n",
      "Epoch 3/20\n",
      "80/80 - 7s - loss: 0.2623 - accuracy: 0.8959 - val_loss: 0.5463 - val_accuracy: 0.7680\n",
      "Epoch 4/20\n",
      "80/80 - 8s - loss: 0.2103 - accuracy: 0.9202 - val_loss: 0.4851 - val_accuracy: 0.8015\n",
      "Epoch 5/20\n",
      "80/80 - 9s - loss: 0.2044 - accuracy: 0.9197 - val_loss: 0.5155 - val_accuracy: 0.7960\n",
      "Epoch 6/20\n",
      "80/80 - 9s - loss: 0.1724 - accuracy: 0.9321 - val_loss: 0.7288 - val_accuracy: 0.7715\n",
      "Epoch 7/20\n",
      "80/80 - 7s - loss: 0.1599 - accuracy: 0.9392 - val_loss: 0.9525 - val_accuracy: 0.7055\n",
      "Epoch 8/20\n",
      "80/80 - 6s - loss: 0.1413 - accuracy: 0.9463 - val_loss: 0.8556 - val_accuracy: 0.7355\n",
      "Epoch 9/20\n",
      "80/80 - 6s - loss: 0.1288 - accuracy: 0.9539 - val_loss: 0.9787 - val_accuracy: 0.7475\n",
      "Epoch 10/20\n",
      "80/80 - 6s - loss: 0.1200 - accuracy: 0.9571 - val_loss: 1.0880 - val_accuracy: 0.7495\n",
      "Epoch 11/20\n",
      "80/80 - 6s - loss: 0.1007 - accuracy: 0.9636 - val_loss: 0.6834 - val_accuracy: 0.8000\n",
      "Epoch 12/20\n",
      "80/80 - 6s - loss: 0.0918 - accuracy: 0.9660 - val_loss: 1.0201 - val_accuracy: 0.7590\n",
      "Epoch 13/20\n",
      "80/80 - 6s - loss: 0.0751 - accuracy: 0.9739 - val_loss: 1.4604 - val_accuracy: 0.7135\n",
      "Epoch 14/20\n",
      "80/80 - 6s - loss: 0.0818 - accuracy: 0.9701 - val_loss: 1.3005 - val_accuracy: 0.7255\n",
      "Epoch 15/20\n",
      "80/80 - 6s - loss: 0.0625 - accuracy: 0.9778 - val_loss: 1.3703 - val_accuracy: 0.7510\n",
      "Epoch 16/20\n",
      "80/80 - 6s - loss: 0.0619 - accuracy: 0.9783 - val_loss: 1.6260 - val_accuracy: 0.7190\n",
      "Epoch 17/20\n",
      "80/80 - 6s - loss: 0.0601 - accuracy: 0.9789 - val_loss: 1.2108 - val_accuracy: 0.7935\n",
      "Epoch 18/20\n",
      "80/80 - 6s - loss: 0.0457 - accuracy: 0.9855 - val_loss: 1.8608 - val_accuracy: 0.7255\n",
      "Epoch 19/20\n",
      "80/80 - 6s - loss: 0.0487 - accuracy: 0.9820 - val_loss: 1.5939 - val_accuracy: 0.7465\n",
      "Epoch 20/20\n",
      "80/80 - 6s - loss: 0.0423 - accuracy: 0.9869 - val_loss: 1.1725 - val_accuracy: 0.7700\n"
     ]
    }
   ],
   "source": [
    "train_history =model.fit(x_train, y_train_array,batch_size=100, \n",
    "                         epochs=20,verbose=2,\n",
    "                         validation_split=0.2)"
   ]
  },
  {
   "cell_type": "code",
   "execution_count": 12,
   "metadata": {},
   "outputs": [
    {
     "name": "stdout",
     "output_type": "stream",
     "text": [
      "313/313 [==============================] - 4s 14ms/step - loss: 0.8872 - accuracy: 0.7988\n"
     ]
    },
    {
     "data": {
      "text/plain": [
       "0.798799991607666"
      ]
     },
     "execution_count": 12,
     "metadata": {},
     "output_type": "execute_result"
    }
   ],
   "source": [
    "scores = model.evaluate(x_test,y_test_array,verbose = 1)\n",
    "scores[1]"
   ]
  },
  {
   "cell_type": "code",
   "execution_count": 13,
   "metadata": {},
   "outputs": [
    {
     "name": "stdout",
     "output_type": "stream",
     "text": [
      "WARNING:tensorflow:From <ipython-input-13-b49137311433>:1: Sequential.predict_classes (from tensorflow.python.keras.engine.sequential) is deprecated and will be removed after 2021-01-01.\n",
      "Instructions for updating:\n",
      "Please use instead:* `np.argmax(model.predict(x), axis=-1)`,   if your model does multi-class classification   (e.g. if it uses a `softmax` last-layer activation).* `(model.predict(x) > 0.5).astype(\"int32\")`,   if your model does binary classification   (e.g. if it uses a `sigmoid` last-layer activation).\n"
     ]
    }
   ],
   "source": [
    "predict = model.predict_classes(x_test)"
   ]
  },
  {
   "cell_type": "code",
   "execution_count": 14,
   "metadata": {},
   "outputs": [
    {
     "data": {
      "text/plain": [
       "array([[1],\n",
       "       [1],\n",
       "       [0],\n",
       "       [1],\n",
       "       [1],\n",
       "       [1],\n",
       "       [1],\n",
       "       [1],\n",
       "       [1],\n",
       "       [1]])"
      ]
     },
     "execution_count": 14,
     "metadata": {},
     "output_type": "execute_result"
    }
   ],
   "source": [
    "predict[:10]"
   ]
  },
  {
   "cell_type": "code",
   "execution_count": 15,
   "metadata": {},
   "outputs": [
    {
     "data": {
      "text/plain": [
       "array([1, 1, 1, 1, 1, 1, 1, 1, 1, 1])"
      ]
     },
     "execution_count": 15,
     "metadata": {},
     "output_type": "execute_result"
    }
   ],
   "source": [
    "y_train_array[:10]"
   ]
  },
  {
   "cell_type": "code",
   "execution_count": null,
   "metadata": {},
   "outputs": [],
   "source": []
  }
 ],
 "metadata": {
  "kernelspec": {
   "display_name": "Python 3",
   "language": "python",
   "name": "python3"
  },
  "language_info": {
   "codemirror_mode": {
    "name": "ipython",
    "version": 3
   },
   "file_extension": ".py",
   "mimetype": "text/x-python",
   "name": "python",
   "nbconvert_exporter": "python",
   "pygments_lexer": "ipython3",
   "version": "3.8.3"
  }
 },
 "nbformat": 4,
 "nbformat_minor": 4
}
